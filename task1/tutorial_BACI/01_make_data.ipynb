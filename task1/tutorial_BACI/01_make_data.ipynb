{
 "cells": [
  {
   "cell_type": "code",
   "execution_count": null,
   "metadata": {},
   "outputs": [],
   "source": [
    "import numpy as np\n",
    "import pandas as pd\n",
    "import matplotlib.pyplot as plt\n",
    "from tqdm import tqdm\n",
    "import scipy.sparse as sp\n",
    "import re\n",
    "import random\n",
    "\n",
    "import torch"
   ]
  },
  {
   "cell_type": "code",
   "execution_count": null,
   "metadata": {},
   "outputs": [],
   "source": [
    "graph_data = pd.read_csv('./data/baci_pre_graph.csv')\n",
    "node_data = pd.read_csv('./data/baci_node_features.csv')"
   ]
  },
  {
   "cell_type": "code",
   "execution_count": null,
   "metadata": {},
   "outputs": [],
   "source": [
    "graph_data"
   ]
  },
  {
   "cell_type": "code",
   "execution_count": null,
   "metadata": {},
   "outputs": [],
   "source": [
    "node_data"
   ]
  },
  {
   "cell_type": "code",
   "execution_count": null,
   "metadata": {},
   "outputs": [],
   "source": [
    "not_in_lst = []\n",
    "for n in range(len(graph_data)):\n",
    "    if graph_data.loc[n]['Exporter'] not in node_data['node'].unique() or graph_data.loc[n]['Importer'] not in node_data['node'].unique():\n",
    "        not_in_lst.append(graph_data.index.values[n])\n",
    "\n",
    "graph_data.drop(not_in_lst, axis=0, inplace=True)"
   ]
  },
  {
   "cell_type": "code",
   "execution_count": null,
   "metadata": {},
   "outputs": [],
   "source": [
    "graph_data"
   ]
  },
  {
   "cell_type": "code",
   "execution_count": null,
   "metadata": {},
   "outputs": [],
   "source": [
    "features = np.array(graph_data.iloc[:, 6:], dtype=np.float32)\n",
    "label = np.array(graph_data.iloc[:, 5], dtype=np.float32)\n",
    "edges_unordered = np.array(graph_data[['Exporter', 'Importer']], dtype=np.int32)\n",
    "idx = np.array(node_data.iloc[:, 0], dtype=np.int32)\n",
    "idx_map = {p:n for n, p in enumerate(idx)}\n",
    "edges = np.array(list(map(idx_map.get, edges_unordered.flatten())), dtype=np.int32).reshape(edges_unordered.shape)\n",
    "adj = sp.coo_matrix((np.ones(edges.shape[0]), (edges[:, 0], edges[:, 1])), shape=(graph_data['GDP'].shape[0], graph_data['GDP'].shape[0]), dtype=np.float32).toarray()\n",
    "edge_attr = np.array(graph_data['Value(usd)'], dtype=np.float32)"
   ]
  },
  {
   "cell_type": "code",
   "execution_count": null,
   "metadata": {},
   "outputs": [],
   "source": [
    "features.shape, label.shape"
   ]
  },
  {
   "cell_type": "code",
   "execution_count": null,
   "metadata": {},
   "outputs": [],
   "source": [
    "edge_index = torch.tensor(edges, dtype=torch.int64).t().contiguous()"
   ]
  },
  {
   "cell_type": "code",
   "execution_count": null,
   "metadata": {},
   "outputs": [],
   "source": [
    "edge_index.shape"
   ]
  },
  {
   "cell_type": "code",
   "execution_count": null,
   "metadata": {},
   "outputs": [],
   "source": [
    "edge_feat = torch.tensor(edge_attr, dtype=torch.float32).unsqueeze(1)"
   ]
  },
  {
   "cell_type": "code",
   "execution_count": null,
   "metadata": {},
   "outputs": [],
   "source": [
    "edge_feat.shape"
   ]
  },
  {
   "cell_type": "code",
   "execution_count": null,
   "metadata": {},
   "outputs": [],
   "source": [
    "train_index = int(0.6 * features.shape[0])\n",
    "val_index = int(0.6 * features.shape[0]) + int(0.2 * features.shape[0])\n",
    "\n",
    "X_train = features[:train_index]\n",
    "X_val = features[train_index:val_index]\n",
    "X_test = features[val_index:]\n",
    "y_train = label[:train_index]\n",
    "y_val = label[train_index:val_index]\n",
    "y_test = label[val_index:]"
   ]
  },
  {
   "cell_type": "code",
   "execution_count": null,
   "metadata": {},
   "outputs": [],
   "source": [
    "X_train.shape, X_test.shape, X_val.shape"
   ]
  },
  {
   "cell_type": "code",
   "execution_count": null,
   "metadata": {},
   "outputs": [],
   "source": [
    "y_train.shape, y_test.shape, y_val.shape"
   ]
  },
  {
   "cell_type": "code",
   "execution_count": null,
   "metadata": {},
   "outputs": [],
   "source": [
    "np.savetxt('./data/graph_idx.csv', features, delimiter=',')\n",
    "np.savetxt('./data/graph_label.csv', label, delimiter=',')\n",
    "\n",
    "torch.save(edge_index, './data/edge_index.pt')\n",
    "torch.save(edge_feat, './data/edge_attr.pt')\n",
    "\n",
    "np.savetxt('./data/X_train.csv', X_train, delimiter=',')\n",
    "np.savetxt('./data/X_val.csv', X_val, delimiter=',')\n",
    "np.savetxt('./data/X_test.csv', X_test, delimiter=',')\n",
    "np.savetxt('./data/y_train.csv', y_train, delimiter=',')\n",
    "np.savetxt('./data/y_val.csv', y_val, delimiter=',')\n",
    "np.savetxt('./data/y_test.csv', y_test, delimiter=',')"
   ]
  }
 ],
 "metadata": {
  "kernelspec": {
   "display_name": "lm",
   "language": "python",
   "name": "python3"
  },
  "language_info": {
   "codemirror_mode": {
    "name": "ipython",
    "version": 3
   },
   "file_extension": ".py",
   "mimetype": "text/x-python",
   "name": "python",
   "nbconvert_exporter": "python",
   "pygments_lexer": "ipython3",
   "version": "3.11.7"
  }
 },
 "nbformat": 4,
 "nbformat_minor": 2
}
